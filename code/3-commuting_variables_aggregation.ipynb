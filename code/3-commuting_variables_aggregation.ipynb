{
 "cells": [
  {
   "cell_type": "markdown",
   "metadata": {},
   "source": [
    "# Packages"
   ]
  },
  {
   "cell_type": "code",
   "execution_count": 1,
   "metadata": {},
   "outputs": [],
   "source": [
    "from folders import *\n",
    "import matplotlib.pyplot as plt\n",
    "import numpy as np\n",
    "import os\n",
    "import pandas as pd\n",
    "import seaborn as sns\n",
    "\n",
    "plt.style.use(\"seaborn\")"
   ]
  },
  {
   "cell_type": "markdown",
   "metadata": {},
   "source": [
    "# Directory"
   ]
  },
  {
   "cell_type": "code",
   "execution_count": 2,
   "metadata": {},
   "outputs": [],
   "source": [
    "path = r\"C:\\Users\\jigon\\OneDrive\\Documentos\\Economía\\Commuting-Zones-Costa-Rica\"\n",
    "os.chdir(path)"
   ]
  },
  {
   "cell_type": "markdown",
   "metadata": {},
   "source": [
    "# Read the data"
   ]
  },
  {
   "cell_type": "code",
   "execution_count": 3,
   "metadata": {},
   "outputs": [],
   "source": [
    "enaho2020 = pd.read_spss(enaho2020_file)\n",
    "enaho2021 = pd.read_spss(enaho2021_file)\n",
    "distances = pd.read_excel(costa_rican_municipalities_distance_matrix)\n",
    "municipalities_correspondence = pd.read_excel(region_concordance_file, sheet_name=\"municipalidades\")\n",
    "provinces_correspondence = pd.read_excel(region_concordance_file, sheet_name=\"provincias\")"
   ]
  },
  {
   "cell_type": "markdown",
   "metadata": {},
   "source": [
    "# Aggregating distances\n",
    "Since we only know the administrative region of origin $i$ and the destination municipality or province $j$, we aggregate these distances following Head and Mayer (2002): \n",
    "$$dist_{ij}=\\left(\\sum_{r\\,\\in\\,i}\\sum_{s\\,\\in\\,j}\\left(\\dfrac{pop_{r}}{pop_{i}}\\right)\\left(\\dfrac{pop_{s}}{pop_{j}}\\right)d_{rs}^{\\theta}\\right)^{1/\\theta}$$\n",
    "\n",
    "We assume $\\theta=-1$. "
   ]
  },
  {
   "cell_type": "code",
   "execution_count": 4,
   "metadata": {},
   "outputs": [],
   "source": [
    "distances.loc[distances[\"travel_time\"] == 0, \"travel_time\"] = 1\n",
    "distances.loc[distances[\"distance\"] == 0, \"distance\"] = 1\n",
    "for column in ['municipality_origin', 'region_origin', 'province_origin', 'municipality_destination', 'region_destination', 'province_destination']: \n",
    "    distances[column] = distances[column].str.strip()"
   ]
  },
  {
   "cell_type": "markdown",
   "metadata": {},
   "source": [
    "## Municipalities"
   ]
  },
  {
   "cell_type": "code",
   "execution_count": 5,
   "metadata": {},
   "outputs": [],
   "source": [
    "mun_distances = distances.copy()"
   ]
  },
  {
   "cell_type": "code",
   "execution_count": 6,
   "metadata": {},
   "outputs": [],
   "source": [
    "share_pop_origin_mun = distances[['municipality_origin', 'region_origin', 'province_origin', 'employment_origin']].drop_duplicates()\n",
    "share_pop_origin_mun['employment_origin'] /= share_pop_origin_mun.groupby(['region_origin'])['employment_origin'].transform(\"sum\")"
   ]
  },
  {
   "cell_type": "code",
   "execution_count": 7,
   "metadata": {},
   "outputs": [],
   "source": [
    "mun_distances.drop(columns=['employment_origin', 'employment_destination'], inplace=True)\n",
    "mun_distances = mun_distances.merge(share_pop_origin_mun, how=\"left\", on=['municipality_origin', 'region_origin', 'province_origin'])\n",
    "mun_distances['employment_destination'] = 1.0\n",
    "mun_distances['share_dist'] = mun_distances['employment_origin'] * mun_distances['employment_destination'] / mun_distances['distance']\n",
    "mun_distances['share_time'] = mun_distances['employment_origin'] * mun_distances['employment_destination'] / mun_distances['travel_time']\n",
    "mun_distances = mun_distances.groupby(['region_origin', 'municipality_destination']).sum()[[\"share_dist\", \"share_time\"]].reset_index().copy()\n",
    "mun_distances['share_dist'] = 1 / mun_distances['share_dist']\n",
    "mun_distances['share_time'] = 1 / mun_distances['share_time']\n",
    "mun_distances.rename(columns={\"region_origin\": \"REGION\", 'municipality_destination': \"municipality\"}, inplace=True)"
   ]
  },
  {
   "cell_type": "markdown",
   "metadata": {},
   "source": [
    "# Provinces"
   ]
  },
  {
   "cell_type": "code",
   "execution_count": 8,
   "metadata": {},
   "outputs": [],
   "source": [
    "provinces_distances = distances.copy()"
   ]
  },
  {
   "cell_type": "code",
   "execution_count": 9,
   "metadata": {},
   "outputs": [],
   "source": [
    "share_pop_origin_provinces = distances[['municipality_origin', 'region_origin', 'province_origin', 'employment_origin']].drop_duplicates()\n",
    "share_pop_origin_provinces['employment_origin'] /= share_pop_origin_provinces.groupby(['region_origin'])['employment_origin'].transform(\"sum\")\n",
    "share_pop_destination_provinces = distances[['municipality_destination', 'region_destination', 'province_destination', 'employment_destination']].drop_duplicates()\n",
    "share_pop_destination_provinces['employment_destination'] /= share_pop_destination_provinces.groupby(['province_destination'])['employment_destination'].transform(\"sum\")"
   ]
  },
  {
   "cell_type": "code",
   "execution_count": 10,
   "metadata": {},
   "outputs": [],
   "source": [
    "provinces_distances.drop(columns=['employment_origin', 'employment_destination'], inplace=True)\n",
    "provinces_distances = provinces_distances.merge(share_pop_origin_provinces, how=\"left\", on=['municipality_origin', 'region_origin', 'province_origin'])\n",
    "provinces_distances = provinces_distances.merge(share_pop_destination_provinces, how=\"left\", on=['municipality_destination', 'region_destination', 'province_destination'])\n",
    "provinces_distances['share_dist'] = provinces_distances['employment_origin'] * provinces_distances['employment_destination'] / provinces_distances['distance']\n",
    "provinces_distances['share_time'] = provinces_distances['employment_origin'] * provinces_distances['employment_destination'] / provinces_distances['travel_time']\n",
    "provinces_distances = provinces_distances.groupby(['region_origin', 'province_destination']).sum()[[\"share_dist\", \"share_time\"]].reset_index().copy()\n",
    "provinces_distances['share_dist'] = 1 / provinces_distances['share_dist']\n",
    "provinces_distances['share_time'] = 1 / provinces_distances['share_time']\n",
    "provinces_distances.rename(columns={\"region_origin\": \"REGION\", 'province_destination': \"province\"}, inplace=True)"
   ]
  },
  {
   "cell_type": "markdown",
   "metadata": {},
   "source": [
    "# Clean before saving"
   ]
  },
  {
   "cell_type": "code",
   "execution_count": 11,
   "metadata": {},
   "outputs": [],
   "source": [
    "mun_distances = mun_distances.merge(municipalities_correspondence, on=\"municipality\", how=\"left\").drop(columns=\"municipality\")\n",
    "provinces_distances = provinces_distances.merge(provinces_correspondence, on=\"province\", how=\"left\").drop(columns=\"province\")\n",
    "agg_distances = pd.concat([mun_distances, provinces_distances], ignore_index=True)"
   ]
  },
  {
   "cell_type": "markdown",
   "metadata": {},
   "source": [
    "# Save aggregate distances"
   ]
  },
  {
   "cell_type": "code",
   "execution_count": 12,
   "metadata": {},
   "outputs": [],
   "source": [
    "agg_distances.to_excel(costa_rican_aggregate_distance_matrix, index=False)"
   ]
  }
 ],
 "metadata": {
  "kernelspec": {
   "display_name": "Python 3.9.12 ('base')",
   "language": "python",
   "name": "python3"
  },
  "language_info": {
   "codemirror_mode": {
    "name": "ipython",
    "version": 3
   },
   "file_extension": ".py",
   "mimetype": "text/x-python",
   "name": "python",
   "nbconvert_exporter": "python",
   "pygments_lexer": "ipython3",
   "version": "3.9.13"
  },
  "orig_nbformat": 4,
  "vscode": {
   "interpreter": {
    "hash": "f39ebb3d7294f4835baf943e4a7a8a538901f08bbb74d6ca4ff9898e85895668"
   }
  }
 },
 "nbformat": 4,
 "nbformat_minor": 2
}
